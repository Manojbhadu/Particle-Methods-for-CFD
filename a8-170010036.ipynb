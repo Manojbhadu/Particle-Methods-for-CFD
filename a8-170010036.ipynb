{
 "cells": [
  {
   "cell_type": "code",
   "execution_count": 1,
   "metadata": {},
   "outputs": [],
   "source": [
    "import numpy as np\n",
    "import matplotlib.pyplot as plt\n",
    "import numba\n"
   ]
  },
  {
   "cell_type": "markdown",
   "metadata": {},
   "source": [
    "def Kernels and their differential"
   ]
  },
  {
   "cell_type": "code",
   "execution_count": 2,
   "metadata": {},
   "outputs": [],
   "source": [
    "@numba.njit\n",
    "def cubic_spline(xij,h):\n",
    "    rij = abs(xij)\n",
    "    q = rij/h\n",
    "    scale = float(2.0/(3.0*h))\n",
    "    if q<=1.0 and q>=0.0:\n",
    "        return scale*(1.0-(1.5*(q**2.0)+(0.75*(q**3.0))))\n",
    "    elif q<=2.0:\n",
    "        return 0.25*scale*(2.0-q)**3.0\n",
    "    else:\n",
    "        return 0.0\n",
    "\n",
    "@numba.njit\n",
    "def cubic_spline_diff(xij,h):\n",
    "    rij = abs(xij)\n",
    "    q = rij/h\n",
    "    scale = 2/(3*h)\n",
    "    if q<=1:\n",
    "        if not xij ==0 :\n",
    "            return -1.5*scale*((-(0.5*q**2)/h)+(2*q/h)*(1-0.5*q))*(abs(xij)/xij)\n",
    "        else :\n",
    "            return -1.5*scale*((-(0.5*q**2)/h)+(2*q/h)*(1-0.5*q))\n",
    "    elif q<=2:\n",
    "        if not xij==0:\n",
    "            return (-0.75*scale/h*(2-q)**2)*(abs(xij)/xij)\n",
    "        else:\n",
    "            return (-0.75*scale/h*(2-q)**2)\n",
    "    elif q>2:\n",
    "        return 0"
   ]
  },
  {
   "cell_type": "code",
   "execution_count": 3,
   "metadata": {},
   "outputs": [],
   "source": [
    "def create_particles(xmin,xmax,dx1,dx2):\n",
    "    x_l= np.linspace(-0.5,0,320)\n",
    "    x_r = np.linspace(0,0.5,40)[1:]\n",
    "\n",
    "    x_l_boundary = np.linspace(-0.5 - (35 * dx1), -0.5 - dx1, 35)\n",
    "    x_r_boundary = np.linspace(0.5 + dx2, 0.5 + (35 * dx2), 35)\n",
    "\n",
    "    x_l = np.append(x_l_boundary, x_l)\n",
    "    x_r = np.append(x_r, x_r_boundary)\n",
    "\n",
    "    return x_l, x_r"
   ]
  },
  {
   "cell_type": "code",
   "execution_count": 4,
   "metadata": {},
   "outputs": [],
   "source": [
    "def intialization(x_l,x_r,dx_l,dx_r):\n",
    "    n=len(x_l)\n",
    "    m=len(x_r)\n",
    "    \n",
    "    rho_l = np.ones(n)\n",
    "    rho_r = np.ones(m)*0.125\n",
    "    rho = np.concatenate((rho_l,rho_r))\n",
    "\n",
    "    p_l = np.ones(n)\n",
    "    p_r = np.ones(m)*0.1\n",
    "    p = np.concatenate((p_l,p_r))\n",
    "\n",
    "    v_l = np.zeros(n)\n",
    "    v_r = np.zeros(m)\n",
    "    v = np.concatenate((v_l,v_r))\n",
    "\n",
    "    h_l = 2*np.ones(n)*dx_r\n",
    "    h_r = 2*np.ones(m)*dx_r\n",
    "    h = np.concatenate((h_l,h_r))\n",
    "\n",
    "    e = p/(rho*0.4)\n",
    "    x = np.concatenate((x_l,x_r))\n",
    "    return rho,p,v,h,e,x"
   ]
  },
  {
   "cell_type": "code",
   "execution_count": 5,
   "metadata": {},
   "outputs": [],
   "source": [
    "@numba.njit\n",
    "\n",
    "def pi_ab(rho_ab,c_ab,h_ab,x_ab,v_ab):\n",
    "    if x_ab*v_ab<0:\n",
    "        mu_ab = h_ab*x_ab*v_ab/(x_ab**2+(1e-4)**2)\n",
    "        piab = (-1*c_ab*mu_ab+mu_ab**2)/rho_ab\n",
    "        return piab\n",
    "    else:\n",
    "        return 0"
   ]
  },
  {
   "cell_type": "code",
   "execution_count": 6,
   "metadata": {},
   "outputs": [],
   "source": [
    "@numba.njit\n",
    "def update_values(p,rho,v,e,x,m,dt,h):\n",
    "    l = len(m)\n",
    "    rho_a = np.zeros(l)\n",
    "    acc = np.zeros(l)\n",
    "    e_a = np.zeros(l)\n",
    "    xsph = np.zeros(l)\n",
    "\n",
    "    for a in range(35,l-35):\n",
    "        sum_rho = 0\n",
    "        sum_v = 0\n",
    "        sum_e = 0\n",
    "        for b in range(len(m)):\n",
    "            v_ab = v[a]-v[b]\n",
    "            x_ab = x[a]-x[b]\n",
    "            c_ab = 0.5*(np.sqrt(1.4*p[a]/rho[a])+np.sqrt(1.4*p[b]/rho[b]))\n",
    "            rho_ab = 0.5*(rho[a]+rho[b])\n",
    "            h_ab = 0.5*(h[a]+h[b])\n",
    "            pbyrho_a = p[a]/(rho[a]**2)\n",
    "            pbyrho_b = p[b]/(rho[b]**2)\n",
    "\n",
    "\n",
    "            sum_rho+= (m[b]/rho[b])*v_ab*cubic_spline_diff(x_ab,h_ab)\n",
    "            sum_v += m[b]*(pbyrho_a+pbyrho_b+pi_ab(rho_ab,c_ab,h_ab,x_ab,v_ab))*cubic_spline_diff(x_ab,h_ab)\n",
    "            sum_e += m[b]*(pbyrho_a+pbyrho_b+pi_ab(rho_ab,c_ab,h_ab,x_ab,v_ab))*cubic_spline_diff(x_ab,h_ab)*v_ab\n",
    "\n",
    "        rho_a[a] = sum_rho*rho[a]\n",
    "        acc[a] = sum_v*-1\n",
    "        e_a[a] = 0.5*sum_e\n",
    "\n",
    "    rho_new = rho+(dt*rho_a)\n",
    "    v_new = v+(dt*acc)\n",
    "    e_new = e + (dt*e_a)\n",
    "    x_new = x+(dt*(v))\n",
    "\n",
    "    p_new = np.sqrt(0.4*rho_new*e_new)\n",
    "\n",
    "    return p_new, rho_new, v_new, e_new, x_new"
   ]
  },
  {
   "cell_type": "code",
   "execution_count": 7,
   "metadata": {},
   "outputs": [],
   "source": [
    "xmin, xmax= -0.5,0.5\n",
    "dx_l, dx_r = 0.0015625,0.0125\n",
    "x_l, x_r = create_particles(xmin,xmax,dx_l,dx_r)\n",
    "\n",
    "tf = 0.2\n",
    "dt = 1e-4\n",
    "time = np.arange(0,tf,dt)\n",
    "time = time+dt\n",
    "\n",
    "l = len(x_l)+len(x_r)\n",
    "n = int(tf/dt)+1\n",
    "\n",
    "p_all = np.zeros((n,l))\n",
    "rho_all = np.zeros((n,l))\n",
    "v_all = np.zeros((n,l))\n",
    "x_all = np.zeros((n,l))\n",
    "e_all = np.zeros((n,l))\n",
    "m = np.ones(l)*0.0015625\n",
    "\n",
    "rho_all[0], p_all[0], v_all[0], h, e_all[0], x_all[0] = intialization(x_l,x_r,dx_l,dx_r)\n",
    "\n",
    "time = np.arange(0,tf,dt)\n",
    "time = time+dt\n",
    "\n",
    "for i in range(n-1):\n",
    "    p_all[i+1],rho_all[i+1],v_all[i+1],e_all[i+1],x_all[i+1] = \\\n",
    "    update_values(p_all[i],rho_all[i],v_all[i],e_all[i],x_all[i],m,dt,h)\n"
   ]
  },
  {
   "cell_type": "markdown",
   "metadata": {},
   "source": [
    "Exact Solution using Reimann "
   ]
  },
  {
   "cell_type": "code",
   "execution_count": 8,
   "metadata": {},
   "outputs": [
    {
     "name": "stdout",
     "output_type": "stream",
     "text": [
      "/home/manoj/Desktop/SEMESTER 6/AE 625/a8-170010036/simple_shock_tube_calculator/shocktubecalc/shocktubecalc\n"
     ]
    }
   ],
   "source": [
    "cd simple_shock_tube_calculator/shocktubecalc/shocktubecalc/\n"
   ]
  },
  {
   "cell_type": "code",
   "execution_count": 9,
   "metadata": {},
   "outputs": [],
   "source": [
    "import sod"
   ]
  },
  {
   "cell_type": "code",
   "execution_count": 10,
   "metadata": {},
   "outputs": [],
   "source": [
    "positions, regions, values = sod.solve(left_state=(1, 1, 0), right_state=(0.1, 0.125, 0.),\n",
    "                                       geometry=(-0.5, 0.5, 0), t=0.2, gamma=1.4, npts=360)\n"
   ]
  },
  {
   "cell_type": "markdown",
   "metadata": {},
   "source": [
    "Results and Comparison with exact"
   ]
  },
  {
   "cell_type": "markdown",
   "metadata": {},
   "source": [
    "1   Density"
   ]
  },
  {
   "cell_type": "code",
   "execution_count": 11,
   "metadata": {},
   "outputs": [
    {
     "data": {
      "text/plain": [
       "<matplotlib.legend.Legend at 0x7fd568d019b0>"
      ]
     },
     "execution_count": 11,
     "metadata": {},
     "output_type": "execute_result"
    },
    {
     "data": {
      "image/png": "[encoded data removed]",
      "text/plain": [
       "<Figure size 432x288 with 1 Axes>"
      ]
     },
     "metadata": {},
     "output_type": "display_data"
    }
   ],
   "source": [
    "plt.plot(x_all[-1],rho_all[-1],\"b\",linewidth=2,label = \"approx\")\n",
    "plt.xlabel(\"x\")\n",
    "plt.ylabel(\"rho\")\n",
    "plt.grid()\n",
    "plt.plot(values['x'], values['rho'], linewidth=1.5, color='r',label = \"exact\")\n",
    "plt.legend()\n"
   ]
  },
  {
   "cell_type": "markdown",
   "metadata": {},
   "source": [
    "2 Velocity"
   ]
  },
  {
   "cell_type": "code",
   "execution_count": 12,
   "metadata": {},
   "outputs": [
    {
     "data": {
      "image/png": "[encoded data removed]",
      "text/plain": [
       "<Figure size 432x288 with 1 Axes>"
      ]
     },
     "metadata": {},
     "output_type": "display_data"
    }
   ],
   "source": [
    "plt.plot(x_all[-1],v_all[-1],\"b\",linewidth=2,label=\"approx\")\n",
    "plt.xlabel(\"x\")\n",
    "plt.ylabel(\"v\")\n",
    "plt.plot(values['x'], values['u'], linewidth=1.5, color=\"r\", label=\"exact\")\n",
    "plt.legend()\n",
    "plt.grid()"
   ]
  },
  {
   "cell_type": "markdown",
   "metadata": {},
   "source": [
    "3 Pressure"
   ]
  },
  {
   "cell_type": "code",
   "execution_count": 13,
   "metadata": {},
   "outputs": [
    {
     "data": {
      "text/plain": [
       "[<matplotlib.lines.Line2D at 0x7fd56605ec50>]"
      ]
     },
     "execution_count": 13,
     "metadata": {},
     "output_type": "execute_result"
    },
    {
     "data": {
      "image/png": "[encoded data removed]",
      "text/plain": [
       "<Figure size 432x288 with 1 Axes>"
      ]
     },
     "metadata": {},
     "output_type": "display_data"
    }
   ],
   "source": [
    "plt.plot(x_all[-1],p_all[-1],\"b\",linewidth=2,label=\"approx\")\n",
    "plt.xlabel(\"x\")\n",
    "plt.ylabel(\"p\")\n",
    "plt.grid()\n",
    "plt.plot(values['x'], values['p'], linewidth=1.5, color='r',label=\"exact\")"
   ]
  },
  {
   "cell_type": "markdown",
   "metadata": {},
   "source": [
    "4 Thermal Energy"
   ]
  },
  {
   "cell_type": "code",
   "execution_count": 14,
   "metadata": {},
   "outputs": [
    {
     "data": {
      "text/plain": [
       "<matplotlib.legend.Legend at 0x7fd569185470>"
      ]
     },
     "execution_count": 14,
     "metadata": {},
     "output_type": "execute_result"
    },
    {
     "data": {
      "image/png": "[encoded data removed]",
      "text/plain": [
       "<Figure size 432x288 with 1 Axes>"
      ]
     },
     "metadata": {},
     "output_type": "display_data"
    }
   ],
   "source": [
    "e = values['p'] / (1.4 - 1) / values['rho']\n",
    "plt.plot(values['x'], e, linewidth=1.5, color='r',label=\"exact\")\n",
    "plt.plot(x_all[-1],e_all[-1],\"b\",linewidth=2,label = \"approx\")\n",
    "plt.xlabel(\"x\")\n",
    "plt.ylabel(\"e\")\n",
    "plt.grid()\n",
    "plt.legend()"
   ]
  },
  {
   "cell_type": "code",
   "execution_count": null,
   "metadata": {},
   "outputs": [],
   "source": []
  },
  {
   "cell_type": "code",
   "execution_count": null,
   "metadata": {},
   "outputs": [],
   "source": []
  },
  {
   "cell_type": "code",
   "execution_count": null,
   "metadata": {},
   "outputs": [],
   "source": []
  },
  {
   "cell_type": "code",
   "execution_count": null,
   "metadata": {},
   "outputs": [],
   "source": []
  },
  {
   "cell_type": "code",
   "execution_count": null,
   "metadata": {},
   "outputs": [],
   "source": []
  },
  {
   "cell_type": "code",
   "execution_count": null,
   "metadata": {},
   "outputs": [],
   "source": []
  }
 ],
 "metadata": {
  "kernelspec": {
   "display_name": "Python 3",
   "language": "python",
   "name": "python3"
  },
  "language_info": {
   "codemirror_mode": {
    "name": "ipython",
    "version": 3
   },
   "file_extension": ".py",
   "mimetype": "text/x-python",
   "name": "python",
   "nbconvert_exporter": "python",
   "pygments_lexer": "ipython3",
   "version": "3.6.9"
  }
 },
 "nbformat": 4,
 "nbformat_minor": 2
}
