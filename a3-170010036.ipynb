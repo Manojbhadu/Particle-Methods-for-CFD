{
 "cells": [
  {
   "cell_type": "code",
   "execution_count": 54,
   "metadata": {},
   "outputs": [],
   "source": [
    "import numpy as np\n",
    "import math\n",
    "import matplotlib.pyplot as plt \n",
    "import numba"
   ]
  },
  {
   "cell_type": "markdown",
   "metadata": {},
   "source": [
    "# Assignment3"
   ]
  },
  {
   "cell_type": "code",
   "execution_count": 91,
   "metadata": {},
   "outputs": [],
   "source": [
    "import numpy as np\n",
    "import math\n",
    "import matplotlib.pyplot as plt \n",
    "import numba\n",
    "\n",
    "\n",
    "\n",
    "\n",
    "@numba.njit\n",
    "def velocity_krasny(circulation, self_position, other_position, delta):\n",
    "    z_relative = (self_position - other_position)\n",
    "    x = z_relative.real\n",
    "    y = z_relative.imag\n",
    "    velocity = complex(-y,x)*circulation/(2*np.pi*(x*x+y*y+delta*delta))\n",
    "    return velocity\n",
    "\n",
    "\n",
    "@numba.njit\n",
    "def total_velocity_krasny(gamma, all_positions,v,delta): \n",
    "    for i in range(len(gamma)):\n",
    "        for j in range(len(gamma)):\n",
    "            if i !=j :\n",
    "                v[i] += velocity_krasny(gamma[j],all_positions[i],all_positions[j],delta)\n",
    "    return v\n",
    "\n",
    "\n",
    "def euler_krasny(gamma, all_positions, dt, delta):\n",
    "    new_positions = np.zeros(shape=(len(gamma)),dtype=complex)\n",
    "    v=np.zeros(len(gamma),dtype=complex)\n",
    "    velocity = total_velocity_krasny(gamma, all_positions,v,delta)\n",
    "    for i in range(len(gamma)):\n",
    "        new_positions[i] = all_positions[i] + velocity[i]*dt\n",
    "    return new_positions\n",
    "\n",
    "\n",
    "def RK2_krasny(gamma, all_positions, dt, delta):\n",
    "    new_positions = np.zeros(shape=(len(gamma)),dtype=complex)\n",
    "    v=np.zeros(len(gamma),dtype=complex)\n",
    "    vi = total_velocity_krasny(gamma, all_positions,v,delta)\n",
    "    temp_positions = euler_krasny(gamma, all_positions, dt,delta)\n",
    "    vi1 = total_velocity_krasny(gamma, temp_positions,v,delta)\n",
    "    for i in range(len(gamma)):\n",
    "        new_positions[i] = all_positions[i] + (vi[i]+vi1[i])*dt/2\n",
    "    return new_positions\n",
    "\n",
    "\n",
    "def integrate_krasny(gamma, all_positions, n, dt, method, delta):\n",
    "    \n",
    "    data = []\n",
    "    data.append(all_positions)\n",
    "    temp_positions = all_positions\n",
    "    if method == 1 :\n",
    "        for i in range(1,n,1):\n",
    "            new_positions = RK2_krasny(gamma,temp_positions, dt,delta)\n",
    "             #print(new_positions)\n",
    "            data.append(new_positions)\n",
    "            temp_positions = new_positions\n",
    "\n",
    "    elif method == 2 :\n",
    "        for i in range(1,n,1):\n",
    "            new_positions = euler_krasny(gamma,temp_positions, dt, delta)\n",
    "            #print(new_positions)\n",
    "            data.append(new_positions)\n",
    "            #for q in range(len(gamma)):\n",
    "                #data[q][i]=new_positions[q]\n",
    "            temp_positions = new_positions\n",
    "    return data        \n",
    "    \n",
    "def gamma(n):                                                #function for n gammas initialization\n",
    "    gamma = np.ones(n)\n",
    "    return gamma\n",
    "def total_vortices(j,m):                                     #total number of vortices in one circular \n",
    "    n = j*(j+1)*m/2 + 1\n",
    "    return int(n)\n",
    "\n",
    "def vortices_position(center1, center2, j, m, d):          #position of all vortices variables are same as paper cited\n",
    "    n = total_vortices(j,m)                                #j=rings of radii, j*m(where j=1,J) are total vortices \n",
    "    all_positions = np.zeros(shape=2*n,dtype=complex)      #in each radii, d is difference between two radii \n",
    "    all_positions[0]  = center1\n",
    "    counter=1\n",
    "    for p in range(1,j+1):\n",
    "        r=p*d                                               #r=j*d(radii at jth ring)\n",
    "        s=p*m                                               #s=j*m(total vortices in jth ring)\n",
    "        for q in range(1,s+1):\n",
    "            theta = q*2*(np.pi)/s                           #different angle for all point vortices\n",
    "            x=center1.real + r*math.cos(theta)\n",
    "            y=center1.imag + r*math.sin(theta)\n",
    "            all_positions[counter]=complex(x,y)\n",
    "            counter += 1\n",
    "    all_positions[counter]=center2\n",
    "    counter += 1\n",
    "    for p in range(1,j+1):\n",
    "        r=p*d\n",
    "        s=p*m\n",
    "        for q in range(1,s+1):\n",
    "            theta = q*2*(np.pi)/s\n",
    "            x=center2.real + r*math.cos(theta)\n",
    "            y=center2.imag + r*math.sin(theta)\n",
    "            all_positions[counter]=complex(x,y)\n",
    "            counter += 1        \n",
    "    return all_positions                                    #all_positions are array containing position of all\n",
    "                                                            #vortices in both circular region(0:n 1st and n:2n second)\n",
    "                                                            #1:n index of circle1, n:2n+1 index of circle2\n",
    "        \n",
    "#below function take center1, center2 , j(no of rings), m(points in one ring=j*m), steps(no. of running steps)\n",
    "#dt , method(1=RK2, 2=Euler), delf(delta factor)  return data(rows=time step, columns=no of vortices)\n",
    "def problem_circular_vortex(center1,center2, j, m, d, steps, dt, method, delf=3):\n",
    "    n = total_vortices(j,m)\n",
    "    delta = delf*d\n",
    "    z = vortices_position(center1, center2, j, m, d)\n",
    "    gamma_all = gamma(2*n)\n",
    "    \n",
    "    data = integrate_krasny(gamma_all, z, steps, dt, method, delta)\n",
    "    return data, n\n"
   ]
  },
  {
   "cell_type": "code",
   "execution_count": 105,
   "metadata": {},
   "outputs": [],
   "source": [
    "data_trial, n  = problem_circular_vortex(complex(-6,0),complex(6,0),10,10,0.1,1000,0.001,1,4)"
   ]
  },
  {
   "cell_type": "code",
   "execution_count": 129,
   "metadata": {},
   "outputs": [
    {
     "data": {
      "text/plain": [
       "<matplotlib.collections.PathCollection at 0x7fc2d5beaeb8>"
      ]
     },
     "execution_count": 129,
     "metadata": {},
     "output_type": "execute_result"
    },
    {
     "data": {
      "image/png": "[encoded data removed]",
      "text/plain": [
       "<matplotlib.figure.Figure at 0x7fc2d5f24400>"
      ]
     },
     "metadata": {},
     "output_type": "display_data"
    }
   ],
   "source": [
    "plt.figure(figsize=(5,5))\n",
    "k=600                         #time step where we want position\n",
    "plt.scatter(data_trial[k][1:n].real,data_trial[k][1:n].imag)\n",
    "plt.scatter(data_trial[k][n:2*n].real,data_trial[k][n:2*n].imag)\n"
   ]
  },
  {
   "cell_type": "code",
   "execution_count": 107,
   "metadata": {},
   "outputs": [
    {
     "data": {
      "image/png": "[encoded data removed]",
      "text/plain": [
       "<matplotlib.figure.Figure at 0x7fc2d78cbc18>"
      ]
     },
     "metadata": {},
     "output_type": "display_data"
    }
   ],
   "source": [
    "import matplotlib\n",
    "from matplotlib import pyplot as plt\n",
    "from celluloid import Camera\n",
    "\n",
    "fig = plt.figure()\n",
    "camera = Camera(fig)\n",
    "for i in range(1000):\n",
    "    plt.plot(data_trial[i][1:n].real,data_trial[i][1:n].imag,'b.')\n",
    "    plt.plot(data_trial[i][n:2*n].real,data_trial[i][n:2*n].imag, 'r.')\n",
    "    camera.snap()\n",
    "animation = camera.animate()\n",
    "animation.save('abc13.mp4')                                    #for animation"
   ]
  },
  {
   "cell_type": "code",
   "execution_count": null,
   "metadata": {},
   "outputs": [],
   "source": []
  }
 ],
 "metadata": {
  "kernelspec": {
   "display_name": "Python 3",
   "language": "python",
   "name": "python3"
  },
  "language_info": {
   "codemirror_mode": {
    "name": "ipython",
    "version": 3
   },
   "file_extension": ".py",
   "mimetype": "text/x-python",
   "name": "python",
   "nbconvert_exporter": "python",
   "pygments_lexer": "ipython3",
   "version": "3.6.9"
  }
 },
 "nbformat": 4,
 "nbformat_minor": 2
}
