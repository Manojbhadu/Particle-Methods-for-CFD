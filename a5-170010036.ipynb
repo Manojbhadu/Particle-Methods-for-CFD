{
 "cells": [
  {
   "cell_type": "markdown",
   "metadata": {},
   "source": [
    "#  Flow Over Cylinder"
   ]
  },
  {
   "cell_type": "markdown",
   "metadata": {},
   "source": [
    "I am not able to produce correct results beacause of some bug in the code which i am unable to find. "
   ]
  },
  {
   "cell_type": "code",
   "execution_count": 1,
   "metadata": {},
   "outputs": [],
   "source": [
    "import numpy as np\n",
    "import math\n",
    "import matplotlib.pyplot as plt \n",
    "import numba\n"
   ]
  },
  {
   "cell_type": "code",
   "execution_count": 2,
   "metadata": {},
   "outputs": [],
   "source": [
    "@numba.njit\n",
    "def cylinder_panels(panels, R):\n",
    "    theta = np.linspace(0,2*math.pi,panels+1)\n",
    "    start_points = np.zeros(panels, dtype=np.cfloat)\n",
    "    end_points = np.zeros(panels, dtype=np.cfloat)\n",
    "    \n",
    "    start_points = np.cos(theta[:-1]) + 1j*np.sin(theta[:-1])\n",
    "    end_points = np.cos(theta[1:]) + 1j*np.sin(theta[1:])\n",
    "    return start_points, end_points\n",
    "\n",
    "\n",
    "#def panels"
   ]
  },
  {
   "cell_type": "code",
   "execution_count": 3,
   "metadata": {},
   "outputs": [],
   "source": [
    "@numba.njit\n",
    "def velocity_dueto_vortices(control_point, gammas, positions):              #velocity due to vortices present in flow\n",
    "    velocity_due_vortices = (0+1j*0)\n",
    "    for i in range(len(gammas)):\n",
    "        z_relative = control_point - positions[i]\n",
    "        v_conjugate = complex(0,-1)*(gammas[i])/(2*(np.pi)*(z_relative))\n",
    "        velocity  = v_conjugate.conjugate()\n",
    "        velocity_due_vortices += velocity\n",
    "        return velocity_due_vortices\n",
    "        \n",
    "        "
   ]
  },
  {
   "cell_type": "code",
   "execution_count": 4,
   "metadata": {},
   "outputs": [],
   "source": [
    "@numba.njit\n",
    "def chorin_velocity(circulation, self_position, other_position, delta):\n",
    "    z_relative = self_position - other_position\n",
    "    zc = z_relative.conjugate()\n",
    "    modulus = abs(z_relative)\n",
    "    x=z_relative.real\n",
    "    y=z_relative.imag\n",
    "    if modulus <= delta and modulus !=0:\n",
    "        velocity_conj = complex(0,-1)*circulation/(2*np.pi*zc*(1/abs(modulus*delta)))\n",
    "        velocity = velocity_conj.conjugate()\n",
    "    elif modulus == 0:\n",
    "        velocity = complex(0,0)\n",
    "    else:\n",
    "        v_conjugate = complex(0,-1)*(circulation)/(2*(np.pi)*(z_relative))\n",
    "        velocity  = v_conjugate.conjugate()\n",
    "    return velocity"
   ]
  },
  {
   "cell_type": "code",
   "execution_count": 5,
   "metadata": {},
   "outputs": [],
   "source": [
    "@numba.njit\n",
    "def velocity_dueto_blobs(control_point, gammas_blobs, positions_blobs, delta):\n",
    "    velocity_due_blobs = (0+1j*0)\n",
    "    for i in range(len(gammas_blobs)):\n",
    "        velocity_due_blobs += chorin_velocity(control_point, gammas_blobs[i], positions_blobs[i], delta)\n",
    "        \n",
    "    return velocity_due_blobs\n",
    "        "
   ]
  },
  {
   "cell_type": "code",
   "execution_count": 6,
   "metadata": {},
   "outputs": [],
   "source": [
    "@numba.njit\n",
    "def gamma_panels_calculation(circulations_linear, start_points, end_points):\n",
    "    n=len(circulations_linear)\n",
    "    gamma_panels = np.zeros(n)\n",
    "    lamda = abs(start_points[0]-end_points[0])\n",
    "    for i in range(n):\n",
    "        if i != (n-1):\n",
    "            gamma_panels[i] = (circulations_linear[i]+circulations_linear[i+1])/2\n",
    "        elif i == (n-1):\n",
    "            gamma_panels[i] = (circulations_linear[i]+circulations_linear[0])/2\n",
    "    return gamma_panels       \n",
    "\n"
   ]
  },
  {
   "cell_type": "code",
   "execution_count": 7,
   "metadata": {},
   "outputs": [],
   "source": [
    "def gamma_position_blob(circulations_linear, start_points, end_points, gamma_max):\n",
    "    lamda = abs(start_points[0]-end_points[0])\n",
    "    delta = abs(start_points[0]-end_points[0])/np.pi\n",
    "    all_blobs_pos = np.array([])\n",
    "    all_blobs_gamma = np.array([])\n",
    "    gamma_panels = gamma_panels_calculation(circulations_linear, start_points, end_points)\n",
    "    delta = abs(start_points[0]-end_points[0])/np.pi\n",
    "    for i in range(len(circulations_linear)):\n",
    "        control_point  = (end_points[i]+start_points[i])/2\n",
    "        gamma1, pos1 = blob_split(control_point, circulations_linear[i], gamma_max, delta,lamda)\n",
    "        all_blobs_pos = np.concatenate((all_blobs_pos, pos1), axis=0) \n",
    "        all_blobs_gamma = np.concatenate((all_blobs_gamma, gamma1), axis=0)\n",
    "    return all_blobs_gamma, all_blobs_pos\n",
    "        \n",
    "        "
   ]
  },
  {
   "cell_type": "code",
   "execution_count": 8,
   "metadata": {},
   "outputs": [],
   "source": [
    "@numba.njit\n",
    "def blob_split(control_point, gamma_panel, gamma_max, delta, lamda):\n",
    "    \n",
    "    r = abs(control_point)\n",
    "    theta = control_point/r\n",
    "    g = abs(gamma_panel)\n",
    "    if (g%gamma_max) !=0 :\n",
    "        num_of_blobs = int(g//gamma_max+1)\n",
    "        gamma_blob = gamma_max*lamda\n",
    "        gamma_blob_rem = (g%gamma_max)*lamda\n",
    "        gammas_blobs = np.zeros(num_of_blobs)\n",
    "        gammas_blobs[:-1] = gamma_blob*(gamma_panel/abs(gamma_panel))\n",
    "        gammas_blobs[-1] = gamma_blob_rem*(gamma_panel/abs(gamma_panel))\n",
    "        positions_blobs = np.zeros(num_of_blobs, dtype=np.cfloat)\n",
    "        positions_blobs[:] = (r+delta)*theta\n",
    "    elif (g%gamma_max) ==0 :\n",
    "        num_of_blobs = int(g/gamma_max)\n",
    "        gamma_blob = (gamma_max)*lamda\n",
    "        gammas_blobs = np.zeros(num_of_blobs)\n",
    "        gammas_blobs[:] = gamma_blob*(gamma_panel/abs(gamma_panel))\n",
    "        positions_blobs = np.zeros(num_of_blobs, dtype=np.cfloat)\n",
    "        positions_blobs[:] = (r+delta)*theta\n",
    "\n",
    "    return gammas_blobs, positions_blobs\n",
    "            \n",
    "        \n",
    "        "
   ]
  },
  {
   "cell_type": "code",
   "execution_count": null,
   "metadata": {},
   "outputs": [],
   "source": []
  },
  {
   "cell_type": "code",
   "execution_count": 9,
   "metadata": {},
   "outputs": [],
   "source": [
    "start_points,  end_points = cylinder_panels(70,1)"
   ]
  },
  {
   "cell_type": "code",
   "execution_count": 10,
   "metadata": {},
   "outputs": [],
   "source": [
    "@numba.njit\n",
    "def dot(a,b):\n",
    "    return a.real*b.real + a.imag*b.imag"
   ]
  },
  {
   "cell_type": "code",
   "execution_count": 11,
   "metadata": {},
   "outputs": [],
   "source": [
    "def matrix_A_linear(start_points, end_points):\n",
    "    n = len(start_points)\n",
    "    noraml = 1j*(start_points-end_points)/abs(start_points-end_points)\n",
    "    A = np.zeros((n+1, n))\n",
    "    for i in range(n):\n",
    "        control_point = (end_points[i]+start_points[i])/2\n",
    "        for j in range(n):\n",
    "            panel_vector = end_points[j]-start_points[j]\n",
    "            l = abs(panel_vector)\n",
    "            relative_vector = control_point - start_points[j]\n",
    "            angle_panel = panel_vector/l\n",
    "            conjugate_panel = angle_panel.conjugate()\n",
    "            rva = relative_vector*conjugate_panel\n",
    "            vel1 = -1j*(((rva/l)-1)*(np.log(1-(l/rva)))+1)\n",
    "            vel2 = 1j*((rva/l)*(np.log(1-(l/rva)))+1)\n",
    "            v1 = (vel1.conjugate())*angle_panel\n",
    "            v2 = (vel2.conjugate())*angle_panel\n",
    "            if j!= n-1:\n",
    "                A[i][j]+=dot(v1,noraml[i])\n",
    "                A[i][j+1]+=dot(v2,noraml[i])\n",
    "            elif j == n-1:\n",
    "                A[i][j]+=dot(v1,noraml[i])\n",
    "                A[i][0]+=dot(v2,noraml[i])\n",
    "    A[n]= 1\n",
    "    return A\n",
    "                \n",
    "#matrix A (cofficients of gammas of panels) using standerd formulae"
   ]
  },
  {
   "cell_type": "code",
   "execution_count": 12,
   "metadata": {},
   "outputs": [],
   "source": [
    "def matrix_b(start_points, end_points,velocity_body=0+1j*0, gammas=np.array([]), positions=0,gammas_blobs=np.array([]), positions_blobs=0, v_inf=1):\n",
    "    delta = abs(start_points[0]-end_points[0])/np.pi\n",
    "    n = len(start_points)\n",
    "    v=np.zeros(n, dtype=np.cfloat)\n",
    "    normal=np.zeros(n, dtype=np.cfloat)\n",
    "    normal = 1j*(start_points-end_points)/abs(start_points-end_points)\n",
    "    for i in range(n):\n",
    "        control_point = (start_points[i]+end_points[i])/2\n",
    "        if len(gammas) !=0:\n",
    "            velocity_due_vortices = velocity_dueto_vortices(control_point,gammas,positions)\n",
    "        else:\n",
    "            velocity_due_vortices = 0\n",
    "        if len(gammas_blobs) != 0:\n",
    "            velocity_due_blobs = velocity_dueto_blobs(control_point, gammas_blobs, positions_blobs,delta)\n",
    "        else:\n",
    "            velocity_due_blobs = 0\n",
    "        v[i] = velocity_body - (v_inf+1j*0) - velocity_due_vortices - velocity_due_blobs\n",
    "        b = dot(v,normal)\n",
    "    b= np.append(b,0)\n",
    "    return b\n",
    "        \n",
    "#remain same as in prevoius"
   ]
  },
  {
   "cell_type": "code",
   "execution_count": 13,
   "metadata": {},
   "outputs": [],
   "source": [
    "A_linear = matrix_A_linear(start_points, end_points)\n",
    "b_linear = matrix_b(start_points, end_points, v_inf=1)"
   ]
  },
  {
   "cell_type": "code",
   "execution_count": 14,
   "metadata": {},
   "outputs": [],
   "source": [
    "def solve(A,b):\n",
    "        ans = np.linalg.lstsq(A, b, rcond=None)[0]\n",
    "        return ans"
   ]
  },
  {
   "cell_type": "code",
   "execution_count": 15,
   "metadata": {},
   "outputs": [],
   "source": [
    "circulations_linear = solve(A_linear,b_linear)"
   ]
  },
  {
   "cell_type": "code",
   "execution_count": 16,
   "metadata": {},
   "outputs": [],
   "source": [
    "all_blobs_gamma, all_blobs_pos = gamma_position_blob(circulations_linear, start_points, end_points, 0.1)"
   ]
  },
  {
   "cell_type": "code",
   "execution_count": null,
   "metadata": {},
   "outputs": [],
   "source": []
  },
  {
   "cell_type": "code",
   "execution_count": 17,
   "metadata": {},
   "outputs": [],
   "source": [
    "@numba.njit\n",
    "def blob_velocity_panel(blob_position, start_point, end_point, circulation):\n",
    "    panel_vector = end_point-start_point\n",
    "    l = abs(panel_vector)\n",
    "    control_point = (start_point+end_point)/2\n",
    "    relative_vector = blob_position - start_point\n",
    "    angle_panel = panel_vector/l\n",
    "    conjugate_panel = angle_panel.conjugate()\n",
    "    rva = relative_vector*conjugate_panel\n",
    "    vel1 = -1j*(circulation)*(((rva/l)-1)*(np.log(1-(l/rva)))+1)\n",
    "    vel2 = 1j*(circulation)*((rva/l)*(np.log(1-(l/rva)))+1)\n",
    "    v1 = (vel1.conjugate())*angle_panel\n",
    "    v2 = (vel2.conjugate())*angle_panel\n",
    "    velocity = v1 + v2\n",
    "    return velocity\n",
    "\n",
    "#velocity function of particle outside cylinder using linear intensity panel discretization"
   ]
  },
  {
   "cell_type": "code",
   "execution_count": 18,
   "metadata": {},
   "outputs": [],
   "source": [
    "@numba.njit\n",
    "def blob_velocity_due_blob(circulation, self_position, other_position, delta):\n",
    "    z_relative = self_position - other_position\n",
    "    zc = z_relative.conjugate()\n",
    "    modulus = abs(z_relative)\n",
    "    x=z_relative.real\n",
    "    y=z_relative.imag\n",
    "    if modulus <= delta and modulus !=0:\n",
    "        velocity = complex(0,-1)*circulation/(2*np.pi*zc*(1/abs(modulus*delta)))\n",
    "        velocity = velocity.conjugate()\n",
    "    elif modulus == 0:\n",
    "        velocity = complex(0,0)\n",
    "    else:\n",
    "        v_conjugate = -1j*(circulation)/(2*(np.pi)*(z_relative))\n",
    "        velocity  = v_conjugate.conjugate()\n",
    "    return velocity"
   ]
  },
  {
   "cell_type": "code",
   "execution_count": 19,
   "metadata": {},
   "outputs": [],
   "source": [
    "@numba.njit\n",
    "def total_velocity_blobs(all_blobs_positions, all_blobs_gammas, start_points, end_points, circulations_linear,v,v_inf=1):\n",
    "    delta = abs(start_points[0]-end_points[0])/np.pi\n",
    "    for i in range(len(all_blobs_positions)):\n",
    "        for j in range(len(start_points)):\n",
    "            v[i] += blob_velocity_panel(all_blobs_positions[i],start_points[j], end_points[j], circulations_linear[j])\n",
    "        for k in range(len(all_blobs_positions)):\n",
    "            if i != k:\n",
    "                v[i]+= blob_velocity_due_blob(all_blobs_gammas[k], all_blobs_positions[i], all_blobs_positions[k], delta)\n",
    "        v[i]+= (v_inf + 1j*0)\n",
    "    return v\n",
    "            \n",
    "#velocity of all particles due to all panels, free stream"
   ]
  },
  {
   "cell_type": "code",
   "execution_count": 20,
   "metadata": {},
   "outputs": [],
   "source": [
    "@numba.njit\n",
    "def diffusion(positions, nu, dt):\n",
    "    sigma = np.sqrt(2*nu*dt)\n",
    "    positions_copy = positions.copy()\n",
    "    x = positions_copy.real\n",
    "    y = positions_copy.imag\n",
    "    xn = x + np.random.normal(0,nu)\n",
    "    yn = y + np.random.normal(0,nu)\n",
    "    z = xn + 1j*yn\n",
    "    return z"
   ]
  },
  {
   "cell_type": "code",
   "execution_count": null,
   "metadata": {},
   "outputs": [],
   "source": []
  },
  {
   "cell_type": "code",
   "execution_count": 21,
   "metadata": {},
   "outputs": [],
   "source": [
    "#posss2_adv = RK2(posss2, all_blobs_gamma, start_points, end_points, circulations_linear, 0.1"
   ]
  },
  {
   "cell_type": "code",
   "execution_count": 22,
   "metadata": {},
   "outputs": [],
   "source": [
    "@numba.njit\n",
    "def reflect(positions, origin, r):\n",
    "    for i in range(len(positions)):\n",
    "        vec = positions[i] - origin\n",
    "        if abs(vec) <= r and abs(vec) != 0:\n",
    "            positions[i] = origin + (2*r - abs(vec))*(vec/abs(vec))\n",
    "    return positions\n"
   ]
  },
  {
   "cell_type": "code",
   "execution_count": null,
   "metadata": {},
   "outputs": [],
   "source": []
  },
  {
   "cell_type": "code",
   "execution_count": 23,
   "metadata": {},
   "outputs": [],
   "source": [
    "@numba.njit\n",
    "def euler(all_blobs_positions, all_blobs_gammas, start_points, end_points, circulations_linear, dt, v_inf=1):\n",
    "    new_positions = np.zeros(shape=(len(all_blobs_positions)),dtype=np.cfloat)\n",
    "    v=np.zeros(len(all_blobs_positions),dtype=np.cfloat)\n",
    "    velocity = total_velocity_blobs(all_blobs_positions, all_blobs_gammas, start_points, end_points, circulations_linear,v, v_inf=1 )\n",
    "    for i in range(len(all_blobs_positions)):\n",
    "        new_positions[i] = all_blobs_positions[i] + velocity[i]*dt\n",
    "    return new_positions\n",
    "\n",
    "@numba.njit\n",
    "def RK2(all_blobs_positions, all_blobs_gammas, start_points, end_points, circulations_linear, dt, v_inf=1):\n",
    "    new_positions = np.zeros(shape=(len(all_blobs_positions)),dtype=np.cfloat)\n",
    "    v=np.zeros(len(all_blobs_positions),dtype=np.cfloat)\n",
    "    vi = total_velocity_blobs(all_blobs_positions, all_blobs_gammas, start_points, end_points,circulations_linear, v, v_inf=1)\n",
    "    temp_positions = euler(all_blobs_positions, all_blobs_gammas, start_points, end_points, circulations_linear, dt, v_inf=1)\n",
    "    vi1 = total_velocity_blobs(temp_positions, all_blobs_gammas, start_points, end_points, circulations_linear,v, v_inf=1)\n",
    "    for i in range(len(all_blobs_positions)):\n",
    "        new_positions[i] = all_blobs_positions[i] + (vi[i]+vi1[i])*dt/2\n",
    "    return new_positions, vi, vi1"
   ]
  },
  {
   "cell_type": "code",
   "execution_count": 24,
   "metadata": {},
   "outputs": [],
   "source": [
    "def integrate(number_panels, R, gamma_max, Re, dt, timesteps, v_inf=1):\n",
    "    v1 = []\n",
    "    v2 = []\n",
    "    data = []\n",
    "    gamma_blob = []\n",
    "    nu = (v_inf*2*R)/Re\n",
    "    start_points, end_points = cylinder_panels(number_panels, R)\n",
    "    A_linear = matrix_A_linear(start_points, end_points)\n",
    "    b_linear = matrix_b(start_points, end_points, v_inf=1)\n",
    "    circulations_linear = solve(A_linear,b_linear)\n",
    "    all_blobs_gamma, all_blobs_pos = gamma_position_blob(circulations_linear, start_points, end_points, 0.1)\n",
    "    blobs_before_diff = np.copy(all_blobs_pos)\n",
    "    pos1 = diffusion(all_blobs_pos, nu, dt)\n",
    "    pos2 = reflect(pos1, complex(0,0), 1)\n",
    "    data.append(pos2.copy())\n",
    "    gamma_blob.append(all_blobs_gamma.copy())\n",
    "    for i in range(1,timesteps,1):\n",
    "        b_linear = matrix_b(start_points, end_points, gammas_blobs=all_blobs_gamma, positions_blobs= pos2, v_inf=1)\n",
    "        circulations_linear = solve(A_linear, b_linear)\n",
    "        new_blob_gamma, new_blob_pos = gamma_position_blob(circulations_linear, start_points, end_points, 0.1)\n",
    "        print(sum(new_blob_gamma))\n",
    "        blobs_advection, vi, vi1 = RK2(pos2, all_blobs_gamma, start_points, end_points,circulations_linear, dt, v_inf=1)\n",
    "        v1.append(vi)\n",
    "        v2.append(vi1)\n",
    "        blobs_advection = reflect(blobs_advection, complex(0,0), 1)\n",
    "        #data.append(blobs_advection.copy())\n",
    "        #gamma_blob.append(all_blobs_gamma.copy())\n",
    "        blobs_before_diff = np.concatenate((blobs_advection, new_blob_pos), axis=0)\n",
    "        pos1 = diffusion(blobs_before_diff, nu, dt)\n",
    "        pos2 = reflect(pos1, complex(0,0),1)\n",
    "        data.append(pos2)\n",
    "        all_blobs_gamma = np.concatenate((all_blobs_gamma, new_blob_gamma), axis=0)\n",
    "        print(np.shape(all_blobs_gamma))\n",
    "        gamma_blob.append(all_blobs_gamma)\n",
    "        print(i)\n",
    "    return data, gamma_blob, v1, v2\n",
    "        \n",
    "        \n",
    "        \n",
    "    "
   ]
  },
  {
   "cell_type": "code",
   "execution_count": 25,
   "metadata": {},
   "outputs": [
    {
     "name": "stdout",
     "output_type": "stream",
     "text": [
      "4.215378046623641e-16\n",
      "(362,)\n",
      "1\n",
      "2.8857125022874186e-15\n",
      "(1353,)\n",
      "2\n",
      "1.850949948867253e-15\n",
      "(3035,)\n",
      "3\n",
      "1.9719469113166355e-15\n",
      "(4796,)\n",
      "4\n",
      "9.99634403031635e-16\n",
      "(6969,)\n",
      "5\n",
      "-1.6219664500383146e-15\n",
      "(9405,)\n",
      "6\n",
      "5.257513174816708e-15\n",
      "(22935,)\n",
      "7\n",
      "-2.742597815519332e-15\n",
      "(27771,)\n",
      "8\n",
      "3.0075768264747893e-15\n",
      "(31782,)\n",
      "9\n",
      "1.7156415177410622e-15\n",
      "(37219,)\n",
      "10\n",
      "2.3955663841501718e-14\n",
      "(45389,)\n",
      "11\n"
     ]
    }
   ],
   "source": [
    "data1, gamma_blob1, v1 ,v2 = integrate(70, 1, 0.1, 1000, 0.1, 12)"
   ]
  },
  {
   "cell_type": "code",
   "execution_count": 26,
   "metadata": {},
   "outputs": [],
   "source": [
    "def color(circulations):\n",
    "    c=[]\n",
    "    for i in range(len(circulations)):\n",
    "        if circulations[i] > 0:\n",
    "            c.append(\"b\")\n",
    "        else:\n",
    "            c.append(\"r\")\n",
    "    return c"
   ]
  },
  {
   "cell_type": "code",
   "execution_count": 27,
   "metadata": {},
   "outputs": [],
   "source": [
    "a= color(gamma_blob1[-1])"
   ]
  },
  {
   "cell_type": "code",
   "execution_count": 28,
   "metadata": {},
   "outputs": [],
   "source": [
    "#data, gamma_blob = integrate(70, 1, 0.1, 1000, 0.1, 0)"
   ]
  },
  {
   "cell_type": "code",
   "execution_count": null,
   "metadata": {},
   "outputs": [],
   "source": []
  },
  {
   "cell_type": "code",
   "execution_count": 29,
   "metadata": {},
   "outputs": [
    {
     "data": {
      "text/plain": [
       "<matplotlib.collections.PathCollection at 0x7ff6fb4eda90>"
      ]
     },
     "execution_count": 29,
     "metadata": {},
     "output_type": "execute_result"
    },
    {
     "data": {
      "image/png": "[encoded data removed]",
      "text/plain": [
       "<Figure size 360x360 with 1 Axes>"
      ]
     },
     "metadata": {},
     "output_type": "display_data"
    }
   ],
   "source": [
    "plt.figure(figsize=(5,5))\n",
    "plt.scatter(data1[-1].real, data1[-1].imag, c=a)"
   ]
  },
  {
   "cell_type": "code",
   "execution_count": 30,
   "metadata": {},
   "outputs": [
    {
     "data": {
      "image/png": "[encoded data removed]",
      "text/plain": [
       "<Figure size 432x288 with 1 Axes>"
      ]
     },
     "metadata": {},
     "output_type": "display_data"
    }
   ],
   "source": [
    "import matplotlib\n",
    "from matplotlib import pyplot as plt\n",
    "from celluloid import Camera\n",
    "\n",
    "fig = plt.figure()\n",
    "camera = Camera(fig)\n",
    "for i in range(5):\n",
    "    plt.scatter(data1[i].real,data1[i].imag,c=color(gamma_blob1[i]))\n",
    "    #plt.plot(data_trial[i][n:2*n].real,data_trial[i][n:2*n].imag, 'r.')\n",
    "    camera.snap()\n",
    "animation = camera.animate()\n",
    "animation.save('flow_over_cylinder.mp4')                                    #for animation"
   ]
  },
  {
   "cell_type": "markdown",
   "metadata": {},
   "source": [
    "functions for velocity of tracer points outside the cylinder"
   ]
  },
  {
   "cell_type": "code",
   "execution_count": 31,
   "metadata": {},
   "outputs": [],
   "source": [
    "def velocity_tracer_linear(tracer_position, start_point, end_point, circulation):\n",
    "    panel_vector = end_point-start_point\n",
    "    l = abs(panel_vector)\n",
    "    control_point = (start_point+end_point)/2\n",
    "    relative_vector = tracer_position - start_point\n",
    "    angle_panel = panel_vector/l\n",
    "    conjugate_panel = angle_panel.conjugate()\n",
    "    rva = relative_vector*conjugate_panel\n",
    "    vel1 = -1j*(circulation)*(((rva/l)-1)*(np.log(1-(l/rva)))+1)\n",
    "    vel2 = 1j*(circulation)*((rva/l)*(np.log(1-(l/rva)))+1)\n",
    "    v1 = (vel1.conjugate())*angle_panel\n",
    "    v2 = (vel2.conjugate())*angle_panel\n",
    "    velocity = v1 + v2\n",
    "    return velocity\n",
    "\n",
    "#velocity function of particle outside cylinder using linear intensity panel discretization"
   ]
  },
  {
   "cell_type": "code",
   "execution_count": 32,
   "metadata": {},
   "outputs": [],
   "source": [
    "def total_velocity_tracer_linear(tracer_positions, start_points, end_points, circulations_linear,v,v_inf=0):\n",
    "    for i in range(len(tracer_positions)):\n",
    "        for j in range(len(start_points)):\n",
    "            v[i] += velocity_tracer_linear(tracer_positions[i],start_points[j], end_points[j], circulations_linear[j])\n",
    "        v[i]+= (v_inf + 1j*0)\n",
    "    return v\n",
    "            \n",
    "#velocity of all particles due to all panels, free stream"
   ]
  },
  {
   "cell_type": "code",
   "execution_count": 33,
   "metadata": {},
   "outputs": [],
   "source": [
    "def problem_cylinder(number,R):\n",
    "    theta = np.linspace(0,2*np.pi,number)\n",
    "    tracer_positions = np.zeros(number, dtype=np.cfloat)\n",
    "    for i in range(number):\n",
    "        tracer_positions[i] = complex(R*np.cos(theta[i]),R*np.sin(theta[i]))\n",
    "    return tracer_positions\n",
    "    \n",
    "#def points outside the cylinder"
   ]
  },
  {
   "cell_type": "code",
   "execution_count": 34,
   "metadata": {},
   "outputs": [],
   "source": [
    "tracer_positions = problem_cylinder(200,2)\n"
   ]
  },
  {
   "cell_type": "code",
   "execution_count": 35,
   "metadata": {},
   "outputs": [],
   "source": [
    "v=np.zeros(len(tracer_positions),dtype=np.cfloat)\n",
    "exp_velocity = total_velocity_tracer_linear(tracer_positions, start_points, end_points, circulations_linear,v, v_inf=1)"
   ]
  }
 ],
 "metadata": {
  "kernelspec": {
   "display_name": "Python 3",
   "language": "python",
   "name": "python3"
  },
  "language_info": {
   "codemirror_mode": {
    "name": "ipython",
    "version": 3
   },
   "file_extension": ".py",
   "mimetype": "text/x-python",
   "name": "python",
   "nbconvert_exporter": "python",
   "pygments_lexer": "ipython3",
   "version": "3.6.9"
  }
 },
 "nbformat": 4,
 "nbformat_minor": 2
}
